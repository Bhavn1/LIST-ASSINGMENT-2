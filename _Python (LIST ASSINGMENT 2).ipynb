{
 "cells": [
  {
   "cell_type": "markdown",
   "id": "4dde121b",
   "metadata": {},
   "source": [
    "# LIST ASSINGMENT"
   ]
  },
  {
   "cell_type": "markdown",
   "id": "bc0fd100",
   "metadata": {},
   "source": [
    "# 1.Write a Python Program to sum all the items and multiply all the items."
   ]
  },
  {
   "cell_type": "code",
   "execution_count": 5,
   "id": "34e1b4a0",
   "metadata": {},
   "outputs": [
    {
     "name": "stdout",
     "output_type": "stream",
     "text": [
      "384\n"
     ]
    }
   ],
   "source": [
    "item=[6,4,2,8,1]\n",
    "total = 1\n",
    "for i in item:\n",
    "    total *=i\n",
    "print(total)"
   ]
  },
  {
   "cell_type": "markdown",
   "id": "7a94bc34",
   "metadata": {},
   "source": [
    "# 2.Write a Python function that takes two list and returns True if they have at least one common member."
   ]
  },
  {
   "cell_type": "code",
   "execution_count": 6,
   "id": "8bbb8398",
   "metadata": {},
   "outputs": [
    {
     "name": "stdout",
     "output_type": "stream",
     "text": [
      "True\n",
      "None\n"
     ]
    }
   ],
   "source": [
    "def common_data(list1,list2):\n",
    "    result = True\n",
    "    for x in list1:\n",
    "        for y in list2:\n",
    "            if x == y:\n",
    "                return result\n",
    "print(common_data([1,2,3,4,5],[5,6,7,8,9]))\n",
    "print(common_data([1,2,3,4,5],[6,7,8,9]))"
   ]
  },
  {
   "cell_type": "markdown",
   "id": "1b1f8305",
   "metadata": {},
   "source": [
    "# 3.Write a Python Program to Compute the differnce between two list."
   ]
  },
  {
   "cell_type": "code",
   "execution_count": 10,
   "id": "afb58da1",
   "metadata": {},
   "outputs": [
    {
     "name": "stdout",
     "output_type": "stream",
     "text": [
      "Color1-Color2:  ['red', 'orange', 'white']\n",
      "Color2-Color1:  ['black', 'yellow']\n"
     ]
    }
   ],
   "source": [
    "color1 = [\"red\", \"orange\", \"green\", \"blue\", \"white\"]\n",
    "color2 = [\"black\", \"yellow\", \"green\", \"blue\"]\n",
    "counter1 = Counter(color1)\n",
    "counter2 = Counter(color2)\n",
    "print(\"Color1-Color2: \",list(counter1 - counter2))\n",
    "print(\"Color2-Color1: \",list(counter2 - counter1))"
   ]
  }
 ],
 "metadata": {
  "kernelspec": {
   "display_name": "Python 3 (ipykernel)",
   "language": "python",
   "name": "python3"
  },
  "language_info": {
   "codemirror_mode": {
    "name": "ipython",
    "version": 3
   },
   "file_extension": ".py",
   "mimetype": "text/x-python",
   "name": "python",
   "nbconvert_exporter": "python",
   "pygments_lexer": "ipython3",
   "version": "3.9.13"
  }
 },
 "nbformat": 4,
 "nbformat_minor": 5
}
